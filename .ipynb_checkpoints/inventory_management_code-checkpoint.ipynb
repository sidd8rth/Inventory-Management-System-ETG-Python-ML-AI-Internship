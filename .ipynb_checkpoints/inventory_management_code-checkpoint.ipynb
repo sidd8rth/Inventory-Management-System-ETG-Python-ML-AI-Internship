{
 "cells": [
  {
   "cell_type": "markdown",
   "id": "2872bc47",
   "metadata": {},
   "source": [
    "# Actual inventory management file where customer can buy and have bill."
   ]
  },
  {
   "cell_type": "code",
   "execution_count": 6,
   "id": "178bb79a",
   "metadata": {},
   "outputs": [],
   "source": [
    "import json"
   ]
  },
  {
   "cell_type": "code",
   "execution_count": 7,
   "id": "60f47b22",
   "metadata": {},
   "outputs": [],
   "source": [
    "def load_data():\n",
    "    with open(\"records.json\", \"r\") as fd:\n",
    "        r = fd.read()\n",
    "    \n",
    "    record = json.loads(r)\n",
    "    return record"
   ]
  },
  {
   "cell_type": "code",
   "execution_count": 8,
   "id": "878bc6a3",
   "metadata": {},
   "outputs": [],
   "source": [
    "def dump_data(record):\n",
    "    record_js = json.dumps(record)\n",
    "    \n",
    "    with open(\"records.json\", \"w\") as fd:\n",
    "        fd.write(record_js)"
   ]
  },
  {
   "cell_type": "code",
   "execution_count": 9,
   "id": "80cd26d4",
   "metadata": {},
   "outputs": [],
   "source": [
    "def load_data_sales():\n",
    "    with open(\"sales.json\", \"r\") as fs:\n",
    "        s = fs.read()\n",
    "    \n",
    "    sales = json.loads(s)\n",
    "    return sales"
   ]
  },
  {
   "cell_type": "code",
   "execution_count": 14,
   "id": "af12c939",
   "metadata": {},
   "outputs": [],
   "source": [
    "def dump_data_sales(sales):\n",
    "    sales_js = json.dumps(sales)\n",
    "    \n",
    "    with open(\"sales.json\", \"a\") as fd:\n",
    "        fd.write(sales_js)"
   ]
  },
  {
   "cell_type": "markdown",
   "id": "4264ecaa",
   "metadata": {},
   "source": [
    "# Run above code before going to below code"
   ]
  },
  {
   "cell_type": "code",
   "execution_count": 24,
   "id": "e5eb5531",
   "metadata": {},
   "outputs": [
    {
     "name": "stdout",
     "output_type": "stream",
     "text": [
      "Enter number of products you bought : 3\n",
      "Enter product id : 11232\n",
      "Enter product quantity : 10\n",
      "Enter product id : 11231\n",
      "Enter product quantity : 5\n",
      "Enter product id : 11212\n",
      "Enter product quantity : 7\n",
      "Product you bought are as follows : \n",
      "Product number : 1\n",
      "Name = Yogurt\n",
      "Product Quantity = 10\n",
      "Cost per piece = 27.61\n",
      "Total cost of this product bought = 276.1\n",
      "================================\n",
      "Product number : 2\n",
      "Name = Smoothie with chia seeds\n",
      "Product Quantity = 5\n",
      "Cost per piece = 25.26\n",
      "Total cost of this product bought = 126.30000000000001\n",
      "================================\n",
      "Product number : 3\n",
      "Name = Legums\n",
      "Product Quantity = 7\n",
      "Cost per piece = 14.77\n",
      "Total cost of this product bought = 103.39\n",
      "================================\n",
      "Total bill of product purchased is 505.79\n"
     ]
    }
   ],
   "source": [
    "\n",
    "def purchase_product_and_update_inventory():\n",
    "    record = load_data()\n",
    "    #sales = load_data_sales()\n",
    "    # cust_id = input(\"Enter customer id : \")\n",
    "    prod_id = input(\"Enter product id : \")\n",
    "    prod_quant = int(input(\"Enter product quantity : \"))\n",
    "    record[prod_id][\"quantity\"] -= prod_quant \n",
    "    sales[prod_id] = {\"name\" : record[prod_id][\"title\"],\"number_of_prod_bought\" : prod_quant, \"cost_per_piece\" : record[prod_id][\"price\"], \n",
    "                      \"total_cost_of_this_item\" : (record[prod_id][\"price\"] * prod_quant)}\n",
    "    dump_data(record)\n",
    "    #dump_data_sales(sales)\n",
    "    \n",
    "def total_bill(sales):\n",
    "    # sales = load_data_sales()\n",
    "    bill = 0\n",
    "    for i in sales:\n",
    "        bill += sales[i][\"total_cost_of_this_item\"]\n",
    "    \n",
    "    return bill\n",
    "\n",
    "\n",
    "n = int(input(\"Enter number of products you bought : \"))\n",
    "for i in range(n):\n",
    "    purchase_product_and_update_inventory()\n",
    "print(\"Product you bought are as follows : \")\n",
    "for j,i in enumerate(sales):\n",
    "    print(\"Product number : \" + str(j+1))\n",
    "    print(\"Name = \" + str(sales[i][\"name\"]))\n",
    "    print(\"Product Quantity = \" + str(sales[i][\"number_of_prod_bought\"]))\n",
    "    print(\"Cost per piece = \" + str(sales[i][\"cost_per_piece\"]))\n",
    "    print(\"Total cost of this product bought = \" + str(sales[i][\"total_cost_of_this_item\"]))\n",
    "    print(\"================================\")\n",
    "    \n",
    "print(f\"Total bill of product purchased is {total_bill(sales)}\")\n",
    "dump_data_sales(sales)"
   ]
  }
 ],
 "metadata": {
  "kernelspec": {
   "display_name": "Python 3",
   "language": "python",
   "name": "python3"
  },
  "language_info": {
   "codemirror_mode": {
    "name": "ipython",
    "version": 3
   },
   "file_extension": ".py",
   "mimetype": "text/x-python",
   "name": "python",
   "nbconvert_exporter": "python",
   "pygments_lexer": "ipython3",
   "version": "3.8.8"
  }
 },
 "nbformat": 4,
 "nbformat_minor": 5
}

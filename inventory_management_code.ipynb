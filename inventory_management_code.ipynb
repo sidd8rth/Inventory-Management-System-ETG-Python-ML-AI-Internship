{
 "cells": [
  {
   "cell_type": "markdown",
   "id": "2872bc47",
   "metadata": {},
   "source": [
    "# Actual inventory management file where customer can buy and have bill."
   ]
  },
  {
   "cell_type": "code",
   "execution_count": 6,
   "id": "178bb79a",
   "metadata": {},
   "outputs": [],
   "source": [
    "import json"
   ]
  },
  {
   "cell_type": "code",
   "execution_count": 7,
   "id": "60f47b22",
   "metadata": {},
   "outputs": [],
   "source": [
    "def load_data():\n",
    "    with open(\"records.json\", \"r\") as fd:\n",
    "        r = fd.read()\n",
    "    \n",
    "    record = json.loads(r)\n",
    "    return record"
   ]
  },
  {
   "cell_type": "code",
   "execution_count": 8,
   "id": "878bc6a3",
   "metadata": {},
   "outputs": [],
   "source": [
    "def dump_data(record):\n",
    "    record_js = json.dumps(record)\n",
    "    \n",
    "    with open(\"records.json\", \"w\") as fd:\n",
    "        fd.write(record_js)"
   ]
  },
  {
   "cell_type": "code",
   "execution_count": 9,
   "id": "f25ac7e9",
   "metadata": {},
   "outputs": [],
   "source": [
    "def load_data_sales():\n",
    "    with open(\"sales.json\", \"r\") as fs:\n",
    "        s = fs.read()\n",
    "    \n",
    "    sales = json.loads(s)\n",
    "    return sales"
   ]
  },
  {
   "cell_type": "code",
   "execution_count": 14,
   "id": "ffa1eb30",
   "metadata": {},
   "outputs": [],
   "source": [
    "def dump_data_sales(sales):\n",
    "    sales_js = json.dumps(sales)\n",
    "    \n",
    "    with open(\"sales.json\", \"a\") as fd:\n",
    "        fd.write(sales_js)"
   ]
  },
  {
   "cell_type": "markdown",
   "id": "4264ecaa",
   "metadata": {},
   "source": [
    "# Run above code before going to below code"
   ]
  },
  {
   "cell_type": "code",
   "execution_count": 25,
   "id": "df56c76e",
   "metadata": {},
   "outputs": [
    {
     "name": "stdout",
     "output_type": "stream",
     "text": [
      "Enter number of products you bought : 10\n",
      "Enter product id : 11232\n",
      "Enter product quantity : 10\n",
      "Enter product id : 11213\n",
      "Enter product quantity : 4\n",
      "Enter product id : 11243\n",
      "Enter product quantity : 6\n",
      "Enter product id : 11202\n",
      "Enter product quantity : 5\n",
      "Enter product id : 11207\n",
      "Enter product quantity : 5\n",
      "Enter product id : 11217\n",
      "Enter product quantity : 8\n",
      "Enter product id : 11209\n",
      "Enter product quantity : 10\n",
      "Enter product id : 11206\n",
      "Enter product quantity : 3\n",
      "Enter product id : 11214\n",
      "Enter product quantity : 6\n",
      "Enter product id : 11249\n",
      "Enter product quantity : 6\n",
      "Product you bought are as follows : \n",
      "Product number : 1\n",
      "Name = Yogurt\n",
      "Product Quantity = 10\n",
      "Cost per piece = 27.61\n",
      "Total cost of this product bought = 276.1\n",
      "================================\n",
      "Product number : 2\n",
      "Name = Smoothie with chia seeds\n",
      "Product Quantity = 5\n",
      "Cost per piece = 25.26\n",
      "Total cost of this product bought = 126.30000000000001\n",
      "================================\n",
      "Product number : 3\n",
      "Name = Legums\n",
      "Product Quantity = 7\n",
      "Cost per piece = 14.77\n",
      "Total cost of this product bought = 103.39\n",
      "================================\n",
      "Product number : 4\n",
      "Name = Fresh tomato\n",
      "Product Quantity = 4\n",
      "Cost per piece = 16.3\n",
      "Total cost of this product bought = 65.2\n",
      "================================\n",
      "Product number : 5\n",
      "Name = Plums\n",
      "Product Quantity = 6\n",
      "Cost per piece = 19.18\n",
      "Total cost of this product bought = 115.08\n",
      "================================\n",
      "Product number : 6\n",
      "Name = Sweet fresh stawberry\n",
      "Product Quantity = 5\n",
      "Cost per piece = 29.45\n",
      "Total cost of this product bought = 147.25\n",
      "================================\n",
      "Product number : 7\n",
      "Name = Pesto with basil\n",
      "Product Quantity = 5\n",
      "Cost per piece = 18.19\n",
      "Total cost of this product bought = 90.95\n",
      "================================\n",
      "Product number : 8\n",
      "Name = Strawberry jelly\n",
      "Product Quantity = 8\n",
      "Cost per piece = 14.18\n",
      "Total cost of this product bought = 113.44\n",
      "================================\n",
      "Product number : 9\n",
      "Name = Fresh stawberry\n",
      "Product Quantity = 10\n",
      "Cost per piece = 28.59\n",
      "Total cost of this product bought = 285.9\n",
      "================================\n",
      "Product number : 10\n",
      "Name = Baking cake\n",
      "Product Quantity = 3\n",
      "Cost per piece = 11.14\n",
      "Total cost of this product bought = 33.42\n",
      "================================\n",
      "Product number : 11\n",
      "Name = Healthy breakfast\n",
      "Product Quantity = 6\n",
      "Cost per piece = 13.02\n",
      "Total cost of this product bought = 78.12\n",
      "================================\n",
      "Product number : 12\n",
      "Name = Fruits bouquet\n",
      "Product Quantity = 6\n",
      "Cost per piece = 18.18\n",
      "Total cost of this product bought = 109.08\n",
      "================================\n",
      "Total bill of product purchased is 1544.23\n"
     ]
    }
   ],
   "source": [
    "\n",
    "def purchase_product_and_update_inventory():\n",
    "    record = load_data()\n",
    "    #sales = load_data_sales()\n",
    "    # cust_id = input(\"Enter customer id : \")\n",
    "    prod_id = input(\"Enter product id : \")\n",
    "    prod_quant = int(input(\"Enter product quantity : \"))\n",
    "    record[prod_id][\"quantity\"] -= prod_quant \n",
    "    sales[prod_id] = {\"name\" : record[prod_id][\"title\"],\"number_of_prod_bought\" : prod_quant, \"cost_per_piece\" : record[prod_id][\"price\"], \n",
    "                      \"total_cost_of_this_item\" : (record[prod_id][\"price\"] * prod_quant)}\n",
    "    dump_data(record)\n",
    "    #dump_data_sales(sales)\n",
    "    \n",
    "def total_bill(sales):\n",
    "    # sales = load_data_sales()\n",
    "    bill = 0\n",
    "    for i in sales:\n",
    "        bill += sales[i][\"total_cost_of_this_item\"]\n",
    "    \n",
    "    return bill\n",
    "\n",
    "\n",
    "n = int(input(\"Enter number of products you bought : \"))\n",
    "for i in range(n):\n",
    "    purchase_product_and_update_inventory()\n",
    "print(\"Product you bought are as follows : \")\n",
    "for j,i in enumerate(sales):\n",
    "    print(\"Product number : \" + str(j+1))\n",
    "    print(\"Name = \" + str(sales[i][\"name\"]))\n",
    "    print(\"Product Quantity = \" + str(sales[i][\"number_of_prod_bought\"]))\n",
    "    print(\"Cost per piece = \" + str(sales[i][\"cost_per_piece\"]))\n",
    "    print(\"Total cost of this product bought = \" + str(sales[i][\"total_cost_of_this_item\"]))\n",
    "    print(\"================================\")\n",
    "    \n",
    "print(f\"Total bill of product purchased is {total_bill(sales)}\")\n",
    "dump_data_sales(sales)"
   ]
  }
 ],
 "metadata": {
  "kernelspec": {
   "display_name": "Python 3",
   "language": "python",
   "name": "python3"
  },
  "language_info": {
   "codemirror_mode": {
    "name": "ipython",
    "version": 3
   },
   "file_extension": ".py",
   "mimetype": "text/x-python",
   "name": "python",
   "nbconvert_exporter": "python",
   "pygments_lexer": "ipython3",
   "version": "3.8.8"
  }
 },
 "nbformat": 4,
 "nbformat_minor": 5
}

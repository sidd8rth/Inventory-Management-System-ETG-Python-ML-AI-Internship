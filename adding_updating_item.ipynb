{
 "cells": [
  {
   "cell_type": "markdown",
   "id": "c3bfedc2",
   "metadata": {},
   "source": [
    "# This file contains four functions.\n",
    "# Only to be used by admin\n",
    "#### 1) dump_data -- It dumps json data from file and save it in a json file\n",
    "#### 2) load_data --  It load json data from file and loads it in a record variable\n",
    "#### 3)  add_new_item_to_inventory -- to add new item to the inventory\n",
    "#### 4) updating_an_item -- update item "
   ]
  },
  {
   "cell_type": "code",
   "execution_count": 1,
   "id": "52eeb08f",
   "metadata": {},
   "outputs": [],
   "source": [
    "import json"
   ]
  },
  {
   "cell_type": "code",
   "execution_count": 2,
   "id": "bd1062f5",
   "metadata": {},
   "outputs": [],
   "source": [
    "def load_data():\n",
    "    with open(\"records.json\", \"r\") as fd:\n",
    "        r = fd.read()\n",
    "    \n",
    "    record = json.loads(r)\n",
    "    return record"
   ]
  },
  {
   "cell_type": "code",
   "execution_count": 3,
   "id": "6ca2e4f2",
   "metadata": {},
   "outputs": [],
   "source": [
    "def dump_data(record):\n",
    "    record_js = json.dumps(record)\n",
    "    \n",
    "    with open(\"records.json\", \"w\") as fd:\n",
    "        fd.write(record_js)\n",
    "    "
   ]
  },
  {
   "cell_type": "code",
   "execution_count": 4,
   "id": "bffd8db5",
   "metadata": {},
   "outputs": [],
   "source": [
    "\n",
    "def add_new_item_to_inventory():\n",
    "    record = load_data()\n",
    "    #print(record)\n",
    "    prod_id = int(input(\"Enter product id : \"))\n",
    "    title = input(\"Enter product name : \")\n",
    "    type = input(\"Enter product type : \")\n",
    "    description = input(\"Enter product description : \")\n",
    "    height = int(input(\"Enter product height : \"))\n",
    "    width = int(input(\"Enter product width : \"))\n",
    "    price = float(input(\"Enter cost of product : \"))\n",
    "    rating = int(input(\"Enter rating of product\"))\n",
    "    quantity = int(input(\"Enter no. of quantity in stock\"))\n",
    "    \n",
    "    record[prod_id] = {\"title\" : title, \"type\" : type, \"description\" : description,\n",
    "                      \"height\" : height, \"width\" : width, \"price\" : price,\n",
    "                      \"rating\" : rating, \"quantity\" : quantity}\n",
    "    \n",
    "    dump_data(record)\n",
    "        \n",
    "# add_new_item_to_inventory()"
   ]
  },
  {
   "cell_type": "code",
   "execution_count": 5,
   "id": "bccb92ee",
   "metadata": {},
   "outputs": [],
   "source": [
    "\n",
    "def updating_an_item():\n",
    "    record = load_data()\n",
    "    prod_id = input(\"Enter product id of product you want to update : \")\n",
    "    feature_to_update = input(\"Enter name of feature to update : \")\n",
    "    new_val = input(\"Enter new value of feature : \")\n",
    "    if isinstance(record[prod_id][feature_to_update], str):\n",
    "        record[prod_id][feature_to_update] = new_val\n",
    "    elif isinstance(record[prod_id][feature_to_update], int):\n",
    "        record[prod_id][feature_to_update] = int(new_val)\n",
    "    elif isinstance(record[prod_id][feature_to_update], float):\n",
    "        record[prod_id][feature_to_update] = float(new_val)\n",
    "    \n",
    "    dump_data(record)\n"
   ]
  },
  {
   "cell_type": "code",
   "execution_count": 8,
   "id": "6d95b422",
   "metadata": {},
   "outputs": [],
   "source": [
    "def print_inventory():\n",
    "    with open(\"records.json\", \"r\") as fd:\n",
    "        r = fd.read()\n",
    "    \n",
    "    record = json.loads(r)\n",
    "    for j,i in enumerate(record):\n",
    "        print(\"Product : \" + str(j+1))\n",
    "        print(\"Name = \" + str(record[i][\"title\"]))\n",
    "        print(\"Type = \" + str(record[i][\"type\"]))\n",
    "        print(\"Description = \" + str(record[i][\"description\"]))\n",
    "        print(\"Height = \" + str(record[i][\"height\"]))\n",
    "        print(\"Width = \" + str(record[i][\"width\"]))\n",
    "        print(\"Price = \" + str(record[i][\"price\"]))\n",
    "        print(\"Rating = \" + str(record[i][\"rating\"]))\n",
    "        print(\"Quantity = \" + str(record[i][\"quantity\"]))\n",
    "        print(\"================================\")"
   ]
  },
  {
   "cell_type": "markdown",
   "id": "38f79ae1",
   "metadata": {},
   "source": [
    "# Run the above code first"
   ]
  },
  {
   "cell_type": "code",
   "execution_count": 9,
   "id": "dfee8c36",
   "metadata": {},
   "outputs": [
    {
     "name": "stdout",
     "output_type": "stream",
     "text": [
      "0\n"
     ]
    }
   ],
   "source": [
    "i =  int(input())\n",
    "while i != 0:\n",
    "    print(\"Enter 1 for adding item to inventory , 2 to update the inventory, 3 to print inventory and 0 if you want to exit.\")\n",
    "    if i == 1:\n",
    "        add_new_item_to_inventory()\n",
    "    elif i == 2:\n",
    "        updating_an_item()\n",
    "    elif i == 3:\n",
    "        print_inventory()\n",
    "    elif i == 0:\n",
    "        print(\"Exitting\")\n",
    "    i = int(input())"
   ]
  },
  {
   "cell_type": "code",
   "execution_count": null,
   "id": "3e5b53aa",
   "metadata": {},
   "outputs": [],
   "source": []
  }
 ],
 "metadata": {
  "kernelspec": {
   "display_name": "Python 3",
   "language": "python",
   "name": "python3"
  },
  "language_info": {
   "codemirror_mode": {
    "name": "ipython",
    "version": 3
   },
   "file_extension": ".py",
   "mimetype": "text/x-python",
   "name": "python",
   "nbconvert_exporter": "python",
   "pygments_lexer": "ipython3",
   "version": "3.8.8"
  }
 },
 "nbformat": 4,
 "nbformat_minor": 5
}
